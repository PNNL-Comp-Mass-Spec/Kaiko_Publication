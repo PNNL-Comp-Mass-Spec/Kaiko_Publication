{
 "cells": [
  {
   "cell_type": "code",
   "execution_count": null,
   "metadata": {
    "collapsed": true
   },
   "outputs": [],
   "source": [
    "from Bio.Phylo.TreeConstruction import DistanceCalculator\n",
    "from Bio.Phylo.TreeConstruction import DistanceTreeConstructor\n",
    "from Bio import AlignIO\n",
    "from Bio import Phylo"
   ]
  },
  {
   "cell_type": "code",
   "execution_count": null,
   "metadata": {},
   "outputs": [],
   "source": [
    "#### import alignment ##############\n",
    "AlignmentFile = 'rplB.afa' # an alignemnt of rplB sequences, obtained by MUSCLE\n",
    "aln = AlignIO.read(AlignmentFile, 'fasta')\n",
    "print (aln)"
   ]
  },
  {
   "cell_type": "code",
   "execution_count": null,
   "metadata": {},
   "outputs": [],
   "source": [
    "###### distnances between aligned sequences\n",
    "calculator = DistanceCalculator('blosum62')\n",
    "dm = calculator.get_distance(aln)\n",
    "#print (dm)"
   ]
  },
  {
   "cell_type": "code",
   "execution_count": null,
   "metadata": {
    "collapsed": true
   },
   "outputs": [],
   "source": [
    "#### joining nodes to make a tree #####\n",
    "constructor = DistanceTreeConstructor(calculator, 'nj')\n",
    "tree = constructor.build_tree(aln)\n",
    "\n"
   ]
  },
  {
   "cell_type": "code",
   "execution_count": 5,
   "metadata": {
    "collapsed": true
   },
   "outputs": [],
   "source": [
    "#renaming things so I can make a nice annotation file for graphlan\n",
    "alphas = ['Rhodopseudomonas_palustris', 'Agrobacterium_tumefaciens', \n",
    "         'Acidiphilium_cryptum', 'Erythrobacter_HL-111', 'Paracoccus_denitrificans',\n",
    "         'Roseibaca_HL-91']\n",
    "alpha_node = tree.common_ancestor(alphas)\n",
    "alpha_node.name = \"Alpha-proteobacteria\"\n",
    "\n",
    "bacilli = ['Bacillus_subtilis_NCIB3610', 'Bacillus_subtilis_168', 'Bacillus_cereus',\n",
    "          'Listeria_monocytogenes', 'Paenibacillus_polymyxa', \n",
    "          'Streptococcus_agalactiae', 'Lactobacillus_casei']\n",
    "bacilli_node = tree.common_ancestor(bacilli)\n",
    "bacilli_node.name = \"Bacilli\"\n",
    "\n",
    "bacteroidetes = ['Bacteroides_thetaiotaomicron', 'Bacteroides_fragilis', \n",
    "                'Prevotella_ruminicola', 'Chryseobacterium_indologenes', \n",
    "                'Cellulophaga_baltica', 'Algoriphagus_marincola']\n",
    "bacteroidetes_node = tree.common_ancestor(bacteroidetes)\n",
    "bacteroidetes_node.name = \"Bacteroidetes\"\n",
    "\n",
    "clostridia = ['Clostridium_ljungdahlii', 'Faecalibacterium_prausnitzii', \n",
    "             'Coprococcus_comes', 'Ruminococcus_gnavus', 'Dorea_formicigenerans', \n",
    "             'Sulfobacillus_thermosulfidooxidans']\n",
    "clostridia_node = tree.common_ancestor(clostridia)\n",
    "clostridia_node.name = \"Clostridia\"\n",
    "\n",
    "actinos = ['Mycobacterium_smegmatis', 'Rhodococcus_jostii', 'Cellulomonas_gilvus', \n",
    "          'Streptomyces_griseorubens', 'Streptomyces_venezuelae', \n",
    "          'Micrococcus_luteus', 'Bifidobacterium_bifidum', 'Bifidobacterium_longum']\n",
    "actinos_node = tree.common_ancestor(actinos)\n",
    "actinos_node.name = \"Actinobacteria\"\n",
    "\n",
    "#it's well known that the beta-protebacteria branch from within the gammas. Because some things that are\n",
    "#gamma, like Francisella are very distinct from E. coli\n",
    "gammas = ['Pseudomonas_putida', 'Halomonas_HL-93', 'Halomonas_HL-48', \n",
    "         'Citrobacter_freundii', 'Legionella_pneumophila', \n",
    "         'Francisella_novicida']\n",
    "gammas_node = tree.common_ancestor(gammas)\n",
    "gammas_node.name = \"Gamma-proteobacteria\""
   ]
  },
  {
   "cell_type": "code",
   "execution_count": 6,
   "metadata": {
    "collapsed": true
   },
   "outputs": [],
   "source": [
    "### now we will write out an annotation file\n",
    "OutFileName = 'annotation_1_tree.txt'\n",
    "Handle = open(OutFileName, 'w')\n",
    "\n",
    "Handle.write(\"#put a pretty background for my large taxa groups\\n\")\n",
    "Handle.write('Bacilli\\tannotation\\tBacilli\\n')\n",
    "Handle.write('Bacilli\\tannotation_background_color\\t#0000ff\\n')\n",
    "Handle.write('Alpha-proteobacteria\\tannotation\\tAlpha-proteobacteria\\n')\n",
    "Handle.write('Alpha-proteobacteria\\tannotation_background_color\\tr\\n')\n",
    "Handle.write('Bacteroidetes\\tannotation\\tBacteroidetes\\n')\n",
    "Handle.write('Bacteroidetes\\tannotation_background_color\\tk\\n')\n",
    "Handle.write('Clostridia\\tannotation\\tClostridia\\n')\n",
    "Handle.write('Clostridia\\tannotation_background_color\\tg\\n')\n",
    "Handle.write('Actinobacteria\\tannotation\\tActinobacteria\\n')\n",
    "Handle.write('Actinobacteria\\tannotation_background_color\\ty\\n')\n",
    "Handle.write('Gamma-proteobacteria\\tannotation\\tGamma-proteobacteria\\n')\n",
    "Handle.write('Gamma-proteobacteria\\tannotation_background_color\\tm\\n')\n",
    "\n",
    "\n",
    "Handle.write('#getting ride of the circles for interior nodes\\n')\n",
    "for node in tree.get_nonterminals():\n",
    "    #if there start with 'Inner' then we don't want to have a node size\n",
    "    if node.name[:5] == 'Inner':\n",
    "        line = '%s\\tclade_marker_size\\t0\\n'%(node.name)\n",
    "    Handle.write(line)\n",
    "Handle.close()\n"
   ]
  },
  {
   "cell_type": "code",
   "execution_count": 7,
   "metadata": {},
   "outputs": [
    {
     "data": {
      "text/plain": [
       "1"
      ]
     },
     "execution_count": 7,
     "metadata": {},
     "output_type": "execute_result"
    }
   ],
   "source": [
    "OutFileName = \"rplB_0.xml\" #_0 indicates that this is the first xml file. it will increment as it is annotated by graphlan\n",
    "Phylo.write(tree, OutFileName, 'phyloxml')"
   ]
  }
 ],
 "metadata": {
  "kernelspec": {
   "display_name": "Python [default]",
   "language": "python",
   "name": "python3"
  },
  "language_info": {
   "codemirror_mode": {
    "name": "ipython",
    "version": 3
   },
   "file_extension": ".py",
   "mimetype": "text/x-python",
   "name": "python",
   "nbconvert_exporter": "python",
   "pygments_lexer": "ipython3",
   "version": "3.6.1"
  }
 },
 "nbformat": 4,
 "nbformat_minor": 2
}
