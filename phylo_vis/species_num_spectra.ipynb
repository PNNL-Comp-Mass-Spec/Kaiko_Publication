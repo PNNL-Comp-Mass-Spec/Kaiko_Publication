{
 "cells": [
  {
   "cell_type": "code",
   "execution_count": 2,
   "metadata": {},
   "outputs": [
    {
     "name": "stderr",
     "output_type": "stream",
     "text": [
      "/anaconda/lib/python3.6/importlib/_bootstrap.py:205: RuntimeWarning: numpy.dtype size changed, may indicate binary incompatibility. Expected 96, got 88\n",
      "  return f(*args, **kwds)\n",
      "/anaconda/lib/python3.6/importlib/_bootstrap.py:205: RuntimeWarning: numpy.dtype size changed, may indicate binary incompatibility. Expected 96, got 88\n",
      "  return f(*args, **kwds)\n"
     ]
    }
   ],
   "source": [
    "import pandas as pd"
   ]
  },
  {
   "cell_type": "code",
   "execution_count": 3,
   "metadata": {},
   "outputs": [
    {
     "data": {
      "text/html": [
       "<div>\n",
       "<style scoped>\n",
       "    .dataframe tbody tr th:only-of-type {\n",
       "        vertical-align: middle;\n",
       "    }\n",
       "\n",
       "    .dataframe tbody tr th {\n",
       "        vertical-align: top;\n",
       "    }\n",
       "\n",
       "    .dataframe thead th {\n",
       "        text-align: right;\n",
       "    }\n",
       "</style>\n",
       "<table border=\"1\" class=\"dataframe\">\n",
       "  <thead>\n",
       "    <tr style=\"text-align: right;\">\n",
       "      <th></th>\n",
       "      <th>id</th>\n",
       "      <th>mgf_file</th>\n",
       "      <th>num_scans</th>\n",
       "      <th>total_scans</th>\n",
       "      <th>species</th>\n",
       "      <th>num_peptides</th>\n",
       "      <th>total_peptides</th>\n",
       "    </tr>\n",
       "  </thead>\n",
       "  <tbody>\n",
       "    <tr>\n",
       "      <th>0</th>\n",
       "      <td>0</td>\n",
       "      <td>Biodiversity_A_cryptum_FeTSB_anaerobic_1_01Jun...</td>\n",
       "      <td>7317</td>\n",
       "      <td>7317</td>\n",
       "      <td>Acidiphilium_cryptum_JF-5</td>\n",
       "      <td>6659</td>\n",
       "      <td>6659</td>\n",
       "    </tr>\n",
       "    <tr>\n",
       "      <th>1</th>\n",
       "      <td>1</td>\n",
       "      <td>Biodiversity_A_cryptum_FeTSB_anaerobic_2_01Jun...</td>\n",
       "      <td>9503</td>\n",
       "      <td>16820</td>\n",
       "      <td>Acidiphilium_cryptum_JF-5</td>\n",
       "      <td>8532</td>\n",
       "      <td>15191</td>\n",
       "    </tr>\n",
       "    <tr>\n",
       "      <th>2</th>\n",
       "      <td>2</td>\n",
       "      <td>Biodiversity_A_cryptum_FeTSB_anaerobic_3_01Jun...</td>\n",
       "      <td>8050</td>\n",
       "      <td>24870</td>\n",
       "      <td>Acidiphilium_cryptum_JF-5</td>\n",
       "      <td>7379</td>\n",
       "      <td>22570</td>\n",
       "    </tr>\n",
       "    <tr>\n",
       "      <th>3</th>\n",
       "      <td>3</td>\n",
       "      <td>Biodiversity_A_faecalis_LB_aerobic_01_26Feb16_...</td>\n",
       "      <td>16382</td>\n",
       "      <td>41252</td>\n",
       "      <td>Alcaligenes_faecalis</td>\n",
       "      <td>15496</td>\n",
       "      <td>38066</td>\n",
       "    </tr>\n",
       "    <tr>\n",
       "      <th>4</th>\n",
       "      <td>4</td>\n",
       "      <td>Biodiversity_A_faecalis_LB_aerobic_02_26Feb16_...</td>\n",
       "      <td>16256</td>\n",
       "      <td>57508</td>\n",
       "      <td>Alcaligenes_faecalis</td>\n",
       "      <td>15367</td>\n",
       "      <td>53433</td>\n",
       "    </tr>\n",
       "  </tbody>\n",
       "</table>\n",
       "</div>"
      ],
      "text/plain": [
       "   id                                           mgf_file  num_scans  \\\n",
       "0   0  Biodiversity_A_cryptum_FeTSB_anaerobic_1_01Jun...       7317   \n",
       "1   1  Biodiversity_A_cryptum_FeTSB_anaerobic_2_01Jun...       9503   \n",
       "2   2  Biodiversity_A_cryptum_FeTSB_anaerobic_3_01Jun...       8050   \n",
       "3   3  Biodiversity_A_faecalis_LB_aerobic_01_26Feb16_...      16382   \n",
       "4   4  Biodiversity_A_faecalis_LB_aerobic_02_26Feb16_...      16256   \n",
       "\n",
       "   total_scans                    species  num_peptides  total_peptides  \n",
       "0         7317  Acidiphilium_cryptum_JF-5          6659            6659  \n",
       "1        16820  Acidiphilium_cryptum_JF-5          8532           15191  \n",
       "2        24870  Acidiphilium_cryptum_JF-5          7379           22570  \n",
       "3        41252       Alcaligenes_faecalis         15496           38066  \n",
       "4        57508       Alcaligenes_faecalis         15367           53433  "
      ]
     },
     "execution_count": 3,
     "metadata": {},
     "output_type": "execute_result"
    }
   ],
   "source": [
    "spectra = pd.read_csv('mgf_list_v3.log', sep='\\t')\n",
    "spectra.head()"
   ]
  },
  {
   "cell_type": "code",
   "execution_count": 4,
   "metadata": {},
   "outputs": [],
   "source": [
    "df = pd.DataFrame(spectra.groupby(by=['species']).num_scans.sum())\n",
    "df['clade_marker_size'] = df.num_scans*20/df.num_scans.min()"
   ]
  },
  {
   "cell_type": "code",
   "execution_count": 5,
   "metadata": {},
   "outputs": [],
   "source": [
    "df.to_csv('num_spectra_by_species.txt', sep='\\t')"
   ]
  }
 ],
 "metadata": {
  "kernelspec": {
   "display_name": "Python [default]",
   "language": "python",
   "name": "python3"
  },
  "language_info": {
   "codemirror_mode": {
    "name": "ipython",
    "version": 3
   },
   "file_extension": ".py",
   "mimetype": "text/x-python",
   "name": "python",
   "nbconvert_exporter": "python",
   "pygments_lexer": "ipython3",
   "version": "3.6.1"
  }
 },
 "nbformat": 4,
 "nbformat_minor": 2
}
